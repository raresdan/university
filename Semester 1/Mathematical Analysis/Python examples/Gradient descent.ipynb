{
 "cells": [
  {
   "cell_type": "markdown",
   "metadata": {},
   "source": [
    "# Gradient descent example\n",
    "\n",
    "Consider the quadratic function $f(x,y) = x^2 + 3y^2$ having a single minimum at the origin $(0,0)$.\n",
    "\n",
    "The gradient is given by $\\nabla f(x,y) = (2x,6y)$.\n",
    "\n",
    "Gradient descent: starting from an initial value $(x_0,y_0)$ consider the sequence $$(x_{k+1},y_{k+1}) = (x_k,y_k) - s \\nabla f(x_k,y_k),$$\n",
    "that is $$x_{k+1} = (1-2s)x_k,\\, y_{k+1} = (1-6s)y_k.$$\n",
    "\n",
    "(Exact line search) We look for the optimal step size (learning rate) $s>0$ by minimizing the function\n",
    "$$\n",
    "\\varphi(s) = f(x_{k+1},y_{k+1}) = (1-2s)^2 x^2_k + 3(1-6s)^2 y^2_k \\to \\min.\n",
    "$$\n",
    "We want \n",
    "$$\n",
    "\\varphi'(s) = 0 \\text{ with }\n",
    "\\varphi'(s) = -4(1-2s) x^2_k -36(1-6s) y^2_k\n",
    "$$\n",
    "and we obtain the optimal step size\n",
    "$$\n",
    "s = \\frac{x^2_k + 9 y^2_k}{2 x^2_k + 54 y^2_k}.\n",
    "$$"
   ]
  },
  {
   "cell_type": "code",
   "execution_count": null,
   "metadata": {},
   "outputs": [],
   "source": [
    "import matplotlib.pyplot as plt\n",
    "import numpy as np\n",
    "\n",
    "def f(x,y):\n",
    "    return x**2 + 3*(y**2)\n",
    "\n",
    "def step(x,y):\n",
    "    return (x**2 + 9*(y**2))/(2*(x**2) + 54*(y**2))\n",
    "\n",
    "def next_iteration(x,y,s):\n",
    "    return [(1-2*s)*x, (1-6*s)*y]\n",
    "\n",
    "iterations = 10\n",
    "x = np.zeros(iterations+2)\n",
    "y = np.zeros(iterations+2)\n",
    "\n",
    "# initial value\n",
    "x[0] = 3\n",
    "y[0] = 1\n",
    "\n",
    "# gradient descent\n",
    "k = 0\n",
    "s = step(x[k], y[k])\n",
    "[x[k+1], y[k+1]] = next_iteration(x[k], y[k], s)\n",
    "\n",
    "while k<iterations:\n",
    "    print(k, x[k], y[k], f(x[k], y[k]))\n",
    "    k+=1\n",
    "    s = step(x[k], y[k])\n",
    "    [x[k+1], y[k+1]] = next_iteration(x[k], y[k], s)"
   ]
  },
  {
   "cell_type": "code",
   "execution_count": null,
   "metadata": {},
   "outputs": [],
   "source": [
    "# create meshgrid for contour plot\n",
    "xlist = np.linspace(-3.0, 3.0, 100)\n",
    "ylist = np.linspace(-3.0, 3.0, 100)\n",
    "X, Y = np.meshgrid(xlist, ylist)\n",
    "Z = f(X,Y)\n",
    "\n",
    "# define the contour levels\n",
    "nlevels = 4\n",
    "levels = np.zeros(nlevels+2)\n",
    "for k in range(nlevels):\n",
    "    levels[k] = f(x[k],y[k])\n",
    "levels[nlevels], levels[nlevels+1]=[6,9]\n",
    "levels = np.sort(levels)\n",
    "\n",
    "# plot the contour lines\n",
    "contours = plt.contour(X, Y, Z, levels, colors='black')\n",
    "plt.clabel(contours, inline=True, fontsize=8)\n",
    "\n",
    "# plot the gradient descent iterations\n",
    "plt.plot(x[:iterations],y[:iterations],'r--o')\n",
    "\n",
    "plt.show()"
   ]
  }
 ],
 "metadata": {
  "kernelspec": {
   "display_name": "Python 3.10.8 64-bit (microsoft store)",
   "language": "python",
   "name": "python3"
  },
  "language_info": {
   "codemirror_mode": {
    "name": "ipython",
    "version": 3
   },
   "file_extension": ".py",
   "mimetype": "text/x-python",
   "name": "python",
   "nbconvert_exporter": "python",
   "pygments_lexer": "ipython3",
   "version": "3.10.8"
  },
  "vscode": {
   "interpreter": {
    "hash": "9198965b6af5f8dad950a5ca89b72bdea45822e58ac797afde031db1a44f6c0a"
   }
  }
 },
 "nbformat": 4,
 "nbformat_minor": 2
}
